{
 "cells": [
  {
   "cell_type": "code",
   "execution_count": 3,
   "metadata": {},
   "outputs": [],
   "source": [
    "import pandas as pd"
   ]
  },
  {
   "cell_type": "code",
   "execution_count": 6,
   "metadata": {},
   "outputs": [
    {
     "data": {
      "text/html": [
       "<div>\n",
       "<style scoped>\n",
       "    .dataframe tbody tr th:only-of-type {\n",
       "        vertical-align: middle;\n",
       "    }\n",
       "\n",
       "    .dataframe tbody tr th {\n",
       "        vertical-align: top;\n",
       "    }\n",
       "\n",
       "    .dataframe thead th {\n",
       "        text-align: right;\n",
       "    }\n",
       "</style>\n",
       "<table border=\"1\" class=\"dataframe\">\n",
       "  <thead>\n",
       "    <tr style=\"text-align: right;\">\n",
       "      <th></th>\n",
       "      <th>Perguntas</th>\n",
       "      <th>Tags</th>\n",
       "    </tr>\n",
       "  </thead>\n",
       "  <tbody>\n",
       "    <tr>\n",
       "      <th>5173</th>\n",
       "      <td>Estou tendo alguns problemas com Passaport.js....</td>\n",
       "      <td>node.js</td>\n",
       "    </tr>\n",
       "    <tr>\n",
       "      <th>3267</th>\n",
       "      <td>Boa tarde galera,   Tem como criar uma variáve...</td>\n",
       "      <td>node.js</td>\n",
       "    </tr>\n",
       "    <tr>\n",
       "      <th>3426</th>\n",
       "      <td>Neste caso:  CODE   como saberei quando o cliq...</td>\n",
       "      <td>jquery</td>\n",
       "    </tr>\n",
       "    <tr>\n",
       "      <th>3964</th>\n",
       "      <td>Eu estava precisando carregar conteúdo sob dem...</td>\n",
       "      <td>jquery</td>\n",
       "    </tr>\n",
       "    <tr>\n",
       "      <th>173</th>\n",
       "      <td>View:  CODE     Controller:  CODE   Estou com ...</td>\n",
       "      <td>jquery</td>\n",
       "    </tr>\n",
       "    <tr>\n",
       "      <th>512</th>\n",
       "      <td>Estou montando uma tabela de planos TABELA , e...</td>\n",
       "      <td>html</td>\n",
       "    </tr>\n",
       "    <tr>\n",
       "      <th>957</th>\n",
       "      <td>Para contextualizar: O código é uma página com...</td>\n",
       "      <td>html</td>\n",
       "    </tr>\n",
       "    <tr>\n",
       "      <th>3571</th>\n",
       "      <td>Tenho meu bd, porém, está me trazendo um resul...</td>\n",
       "      <td>html</td>\n",
       "    </tr>\n",
       "    <tr>\n",
       "      <th>1516</th>\n",
       "      <td>Estou com um problema no Scrollorama. Gostaria...</td>\n",
       "      <td>jquery html</td>\n",
       "    </tr>\n",
       "    <tr>\n",
       "      <th>5309</th>\n",
       "      <td>Boa tarde pessoal. Estou começando começando a...</td>\n",
       "      <td>angular</td>\n",
       "    </tr>\n",
       "  </tbody>\n",
       "</table>\n",
       "</div>"
      ],
      "text/plain": [
       "                                              Perguntas         Tags\n",
       "5173  Estou tendo alguns problemas com Passaport.js....      node.js\n",
       "3267  Boa tarde galera,   Tem como criar uma variáve...      node.js\n",
       "3426  Neste caso:  CODE   como saberei quando o cliq...       jquery\n",
       "3964  Eu estava precisando carregar conteúdo sob dem...       jquery\n",
       "173   View:  CODE     Controller:  CODE   Estou com ...      jquery \n",
       "512   Estou montando uma tabela de planos TABELA , e...         html\n",
       "957   Para contextualizar: O código é uma página com...        html \n",
       "3571  Tenho meu bd, porém, está me trazendo um resul...        html \n",
       "1516  Estou com um problema no Scrollorama. Gostaria...  jquery html\n",
       "5309  Boa tarde pessoal. Estou começando começando a...      angular"
      ]
     },
     "execution_count": 6,
     "metadata": {},
     "output_type": "execute_result"
    }
   ],
   "source": [
    "perguntas = pd.read_csv('stackoverflow_perguntas.csv')\n",
    "perguntas.sample(10)"
   ]
  },
  {
   "cell_type": "markdown",
   "metadata": {},
   "source": [
    "# Classificações:\n",
    "\n",
    "## Binária: é quando apenas duas opcões, sendo uma ou a outra\n",
    "## Multiclass: é quando tem várias opções, mas sendo apenas uma\n",
    "## Multilabel: é quando tem várias opções e você pode ser mais de uma"
   ]
  },
  {
   "cell_type": "code",
   "execution_count": 14,
   "metadata": {},
   "outputs": [
    {
     "data": {
      "text/plain": [
       "5408"
      ]
     },
     "execution_count": 14,
     "metadata": {},
     "output_type": "execute_result"
    }
   ],
   "source": [
    "len(perguntas)"
   ]
  },
  {
   "cell_type": "code",
   "execution_count": 15,
   "metadata": {},
   "outputs": [
    {
     "data": {
      "text/plain": [
       "37"
      ]
     },
     "execution_count": 15,
     "metadata": {},
     "output_type": "execute_result"
    }
   ],
   "source": [
    "len(perguntas.Tags.unique())"
   ]
  },
  {
   "cell_type": "code",
   "execution_count": 13,
   "metadata": {},
   "outputs": [
    {
     "data": {
      "text/plain": [
       "array(['node.js', 'jquery', 'html', 'html angular ', 'html ', 'angular',\n",
       "       'angular ', 'jquery html  ', 'jquery ', 'jquery html',\n",
       "       'jquery html ', 'html angular', 'angular node.js ', 'html  ',\n",
       "       'jquery html angular', 'node.js ', 'html jquery', 'html jquery ',\n",
       "       'jquery angular  ', 'html node.js', 'jquery  ', 'angular node.js',\n",
       "       'jquery angular', 'html node.js ', 'jquery node.js ', 'angular  ',\n",
       "       'jquery angular ', 'jquery html angular ', 'node.js html ',\n",
       "       ' node.js', 'node.js html', 'html angular  ', 'jquery node.js',\n",
       "       'angular html', 'html angular  node.js', 'jquery html node.js',\n",
       "       'html angular node.js'], dtype=object)"
      ]
     },
     "execution_count": 13,
     "metadata": {},
     "output_type": "execute_result"
    }
   ],
   "source": [
    "perguntas.Tags.unique()"
   ]
  },
  {
   "cell_type": "code",
   "execution_count": 16,
   "metadata": {},
   "outputs": [
    {
     "data": {
      "text/plain": [
       "True"
      ]
     },
     "execution_count": 16,
     "metadata": {},
     "output_type": "execute_result"
    }
   ],
   "source": [
    "'html' != 'html '"
   ]
  },
  {
   "cell_type": "code",
   "execution_count": 18,
   "metadata": {},
   "outputs": [
    {
     "data": {
      "text/plain": [
       "True"
      ]
     },
     "execution_count": 18,
     "metadata": {},
     "output_type": "execute_result"
    }
   ],
   "source": [
    "'html angular' != 'angular html'"
   ]
  },
  {
   "cell_type": "code",
   "execution_count": 20,
   "metadata": {},
   "outputs": [
    {
     "data": {
      "text/plain": [
       "['node.js', 'html']"
      ]
     },
     "execution_count": 20,
     "metadata": {},
     "output_type": "execute_result"
    }
   ],
   "source": [
    "# Ex:\n",
    "'node.js html '.split()"
   ]
  },
  {
   "cell_type": "code",
   "execution_count": 27,
   "metadata": {},
   "outputs": [
    {
     "name": "stdout",
     "output_type": "stream",
     "text": [
      "['node.js', 'jquery', 'html', 'angular']\n"
     ]
    }
   ],
   "source": [
    "lista_de_tags = list()\n",
    "for tags in perguntas.Tags.unique():\n",
    "    for tag in tags.split():\n",
    "        if tag not in lista_de_tags:\n",
    "            lista_de_tags.append(tag)\n",
    "\n",
    "print(lista_de_tags)            "
   ]
  },
  {
   "cell_type": "code",
   "execution_count": 26,
   "metadata": {},
   "outputs": [],
   "source": [
    "node_js = list()\n",
    "for linha_tag in perguntas.Tags:\n",
    "    if 'node.js' in linha_tag:\n",
    "        node_js.append(1)\n",
    "    else:\n",
    "        node_js.append(0)\n",
    "        \n",
    " "
   ]
  },
  {
   "cell_type": "code",
   "execution_count": 25,
   "metadata": {},
   "outputs": [
    {
     "data": {
      "text/html": [
       "<div>\n",
       "<style scoped>\n",
       "    .dataframe tbody tr th:only-of-type {\n",
       "        vertical-align: middle;\n",
       "    }\n",
       "\n",
       "    .dataframe tbody tr th {\n",
       "        vertical-align: top;\n",
       "    }\n",
       "\n",
       "    .dataframe thead th {\n",
       "        text-align: right;\n",
       "    }\n",
       "</style>\n",
       "<table border=\"1\" class=\"dataframe\">\n",
       "  <thead>\n",
       "    <tr style=\"text-align: right;\">\n",
       "      <th></th>\n",
       "      <th>Perguntas</th>\n",
       "      <th>Tags</th>\n",
       "      <th>node.js</th>\n",
       "    </tr>\n",
       "  </thead>\n",
       "  <tbody>\n",
       "    <tr>\n",
       "      <th>0</th>\n",
       "      <td>Possuo um projeto Node.js porém preciso criar ...</td>\n",
       "      <td>node.js</td>\n",
       "      <td>1</td>\n",
       "    </tr>\n",
       "    <tr>\n",
       "      <th>1</th>\n",
       "      <td>Gostaria de fazer testes unitários no Node.js,...</td>\n",
       "      <td>node.js</td>\n",
       "      <td>1</td>\n",
       "    </tr>\n",
       "    <tr>\n",
       "      <th>2</th>\n",
       "      <td>Como inverter a ordem com que o jQuery itera u...</td>\n",
       "      <td>jquery</td>\n",
       "      <td>0</td>\n",
       "    </tr>\n",
       "    <tr>\n",
       "      <th>3</th>\n",
       "      <td>Eu tenho uma página onde pretendo utilizar um ...</td>\n",
       "      <td>html</td>\n",
       "      <td>0</td>\n",
       "    </tr>\n",
       "    <tr>\n",
       "      <th>4</th>\n",
       "      <td>Como exibir os dados retornados do FireStore e...</td>\n",
       "      <td>html angular</td>\n",
       "      <td>0</td>\n",
       "    </tr>\n",
       "    <tr>\n",
       "      <th>...</th>\n",
       "      <td>...</td>\n",
       "      <td>...</td>\n",
       "      <td>...</td>\n",
       "    </tr>\n",
       "    <tr>\n",
       "      <th>5403</th>\n",
       "      <td>Queria saber como pegar o total de cores de um...</td>\n",
       "      <td>jquery html</td>\n",
       "      <td>0</td>\n",
       "    </tr>\n",
       "    <tr>\n",
       "      <th>5404</th>\n",
       "      <td>Boa noite, estou usando phonegap para fazer um...</td>\n",
       "      <td>html</td>\n",
       "      <td>0</td>\n",
       "    </tr>\n",
       "    <tr>\n",
       "      <th>5405</th>\n",
       "      <td>Estou construindo um mini fórum, e nele, os us...</td>\n",
       "      <td>jquery html</td>\n",
       "      <td>0</td>\n",
       "    </tr>\n",
       "    <tr>\n",
       "      <th>5406</th>\n",
       "      <td>Boa tarde,  Estou para desenvolver um site na ...</td>\n",
       "      <td>html</td>\n",
       "      <td>0</td>\n",
       "    </tr>\n",
       "    <tr>\n",
       "      <th>5407</th>\n",
       "      <td>Estou fazendo um hotsite, ele é one page, e é ...</td>\n",
       "      <td>jquery html</td>\n",
       "      <td>0</td>\n",
       "    </tr>\n",
       "  </tbody>\n",
       "</table>\n",
       "<p>5408 rows × 3 columns</p>\n",
       "</div>"
      ],
      "text/plain": [
       "                                              Perguntas           Tags  \\\n",
       "0     Possuo um projeto Node.js porém preciso criar ...        node.js   \n",
       "1     Gostaria de fazer testes unitários no Node.js,...        node.js   \n",
       "2     Como inverter a ordem com que o jQuery itera u...         jquery   \n",
       "3     Eu tenho uma página onde pretendo utilizar um ...           html   \n",
       "4     Como exibir os dados retornados do FireStore e...  html angular    \n",
       "...                                                 ...            ...   \n",
       "5403  Queria saber como pegar o total de cores de um...   jquery html    \n",
       "5404  Boa noite, estou usando phonegap para fazer um...          html    \n",
       "5405  Estou construindo um mini fórum, e nele, os us...    jquery html   \n",
       "5406  Boa tarde,  Estou para desenvolver um site na ...           html   \n",
       "5407  Estou fazendo um hotsite, ele é one page, e é ...    jquery html   \n",
       "\n",
       "      node.js  \n",
       "0           1  \n",
       "1           1  \n",
       "2           0  \n",
       "3           0  \n",
       "4           0  \n",
       "...       ...  \n",
       "5403        0  \n",
       "5404        0  \n",
       "5405        0  \n",
       "5406        0  \n",
       "5407        0  \n",
       "\n",
       "[5408 rows x 3 columns]"
      ]
     },
     "execution_count": 25,
     "metadata": {},
     "output_type": "execute_result"
    }
   ],
   "source": [
    "perguntas['node.js'] = node_js\n",
    "perguntas"
   ]
  },
  {
   "cell_type": "code",
   "execution_count": 33,
   "metadata": {},
   "outputs": [],
   "source": [
    "def nova_coluna(lista_tag, dataframe, nome_tags):\n",
    "    for tag in lista_tag:\n",
    "        coluna = list()\n",
    "        for linha_tag in dataframe[nome_tags]:\n",
    "            if tag in linha_tag:\n",
    "                coluna.append(1)      \n",
    "            else:\n",
    "                coluna.append(0)\n",
    "        dataframe[tag] = coluna       "
   ]
  },
  {
   "cell_type": "code",
   "execution_count": 34,
   "metadata": {},
   "outputs": [],
   "source": [
    "nova_coluna(lista_de_tags, perguntas, 'Tags')"
   ]
  },
  {
   "cell_type": "code",
   "execution_count": 36,
   "metadata": {},
   "outputs": [
    {
     "data": {
      "text/html": [
       "<div>\n",
       "<style scoped>\n",
       "    .dataframe tbody tr th:only-of-type {\n",
       "        vertical-align: middle;\n",
       "    }\n",
       "\n",
       "    .dataframe tbody tr th {\n",
       "        vertical-align: top;\n",
       "    }\n",
       "\n",
       "    .dataframe thead th {\n",
       "        text-align: right;\n",
       "    }\n",
       "</style>\n",
       "<table border=\"1\" class=\"dataframe\">\n",
       "  <thead>\n",
       "    <tr style=\"text-align: right;\">\n",
       "      <th></th>\n",
       "      <th>Perguntas</th>\n",
       "      <th>Tags</th>\n",
       "      <th>node.js</th>\n",
       "      <th>jquery</th>\n",
       "      <th>html</th>\n",
       "      <th>angular</th>\n",
       "    </tr>\n",
       "  </thead>\n",
       "  <tbody>\n",
       "    <tr>\n",
       "      <th>0</th>\n",
       "      <td>Possuo um projeto Node.js porém preciso criar ...</td>\n",
       "      <td>node.js</td>\n",
       "      <td>1</td>\n",
       "      <td>0</td>\n",
       "      <td>0</td>\n",
       "      <td>0</td>\n",
       "    </tr>\n",
       "    <tr>\n",
       "      <th>1</th>\n",
       "      <td>Gostaria de fazer testes unitários no Node.js,...</td>\n",
       "      <td>node.js</td>\n",
       "      <td>1</td>\n",
       "      <td>0</td>\n",
       "      <td>0</td>\n",
       "      <td>0</td>\n",
       "    </tr>\n",
       "    <tr>\n",
       "      <th>2</th>\n",
       "      <td>Como inverter a ordem com que o jQuery itera u...</td>\n",
       "      <td>jquery</td>\n",
       "      <td>0</td>\n",
       "      <td>1</td>\n",
       "      <td>0</td>\n",
       "      <td>0</td>\n",
       "    </tr>\n",
       "    <tr>\n",
       "      <th>3</th>\n",
       "      <td>Eu tenho uma página onde pretendo utilizar um ...</td>\n",
       "      <td>html</td>\n",
       "      <td>0</td>\n",
       "      <td>0</td>\n",
       "      <td>1</td>\n",
       "      <td>0</td>\n",
       "    </tr>\n",
       "    <tr>\n",
       "      <th>4</th>\n",
       "      <td>Como exibir os dados retornados do FireStore e...</td>\n",
       "      <td>html angular</td>\n",
       "      <td>0</td>\n",
       "      <td>0</td>\n",
       "      <td>1</td>\n",
       "      <td>1</td>\n",
       "    </tr>\n",
       "    <tr>\n",
       "      <th>5</th>\n",
       "      <td>Vi esse vídeo (link abaixo) e gostaria de cons...</td>\n",
       "      <td>html</td>\n",
       "      <td>0</td>\n",
       "      <td>0</td>\n",
       "      <td>1</td>\n",
       "      <td>0</td>\n",
       "    </tr>\n",
       "    <tr>\n",
       "      <th>6</th>\n",
       "      <td>Eu consigo fazer uma requisição de upload de u...</td>\n",
       "      <td>angular</td>\n",
       "      <td>0</td>\n",
       "      <td>0</td>\n",
       "      <td>0</td>\n",
       "      <td>1</td>\n",
       "    </tr>\n",
       "    <tr>\n",
       "      <th>7</th>\n",
       "      <td>Está apresentando o seguinte erro:  'ionic' nã...</td>\n",
       "      <td>node.js</td>\n",
       "      <td>1</td>\n",
       "      <td>0</td>\n",
       "      <td>0</td>\n",
       "      <td>0</td>\n",
       "    </tr>\n",
       "    <tr>\n",
       "      <th>8</th>\n",
       "      <td>Tenho um formulário reativo e eu preciso mostr...</td>\n",
       "      <td>angular</td>\n",
       "      <td>0</td>\n",
       "      <td>0</td>\n",
       "      <td>0</td>\n",
       "      <td>1</td>\n",
       "    </tr>\n",
       "    <tr>\n",
       "      <th>9</th>\n",
       "      <td>Eu estou com esse problema e não faço ideia de...</td>\n",
       "      <td>node.js</td>\n",
       "      <td>1</td>\n",
       "      <td>0</td>\n",
       "      <td>0</td>\n",
       "      <td>0</td>\n",
       "    </tr>\n",
       "  </tbody>\n",
       "</table>\n",
       "</div>"
      ],
      "text/plain": [
       "                                           Perguntas           Tags  node.js  \\\n",
       "0  Possuo um projeto Node.js porém preciso criar ...        node.js        1   \n",
       "1  Gostaria de fazer testes unitários no Node.js,...        node.js        1   \n",
       "2  Como inverter a ordem com que o jQuery itera u...         jquery        0   \n",
       "3  Eu tenho uma página onde pretendo utilizar um ...           html        0   \n",
       "4  Como exibir os dados retornados do FireStore e...  html angular         0   \n",
       "5  Vi esse vídeo (link abaixo) e gostaria de cons...          html         0   \n",
       "6  Eu consigo fazer uma requisição de upload de u...        angular        0   \n",
       "7  Está apresentando o seguinte erro:  'ionic' nã...        node.js        1   \n",
       "8  Tenho um formulário reativo e eu preciso mostr...        angular        0   \n",
       "9  Eu estou com esse problema e não faço ideia de...        node.js        1   \n",
       "\n",
       "   jquery  html  angular  \n",
       "0       0     0        0  \n",
       "1       0     0        0  \n",
       "2       1     0        0  \n",
       "3       0     1        0  \n",
       "4       0     1        1  \n",
       "5       0     1        0  \n",
       "6       0     0        1  \n",
       "7       0     0        0  \n",
       "8       0     0        1  \n",
       "9       0     0        0  "
      ]
     },
     "execution_count": 36,
     "metadata": {},
     "output_type": "execute_result"
    }
   ],
   "source": [
    "perguntas.head(10)"
   ]
  },
  {
   "cell_type": "code",
   "execution_count": 40,
   "metadata": {},
   "outputs": [
    {
     "name": "stdout",
     "output_type": "stream",
     "text": [
      "[(1, 5), (2, 4)]\n"
     ]
    }
   ],
   "source": [
    "# EX:\n",
    "lista_1 = [1,2]\n",
    "lista_2 = [5,4]\n",
    "# 1,5      2,4\n",
    "\n",
    "lista_zip = zip(lista_1, lista_2)\n",
    "print(list(lista_zip))"
   ]
  },
  {
   "cell_type": "code",
   "execution_count": 44,
   "metadata": {},
   "outputs": [
    {
     "data": {
      "text/html": [
       "<div>\n",
       "<style scoped>\n",
       "    .dataframe tbody tr th:only-of-type {\n",
       "        vertical-align: middle;\n",
       "    }\n",
       "\n",
       "    .dataframe tbody tr th {\n",
       "        vertical-align: top;\n",
       "    }\n",
       "\n",
       "    .dataframe thead th {\n",
       "        text-align: right;\n",
       "    }\n",
       "</style>\n",
       "<table border=\"1\" class=\"dataframe\">\n",
       "  <thead>\n",
       "    <tr style=\"text-align: right;\">\n",
       "      <th></th>\n",
       "      <th>Perguntas</th>\n",
       "      <th>Tags</th>\n",
       "      <th>node.js</th>\n",
       "      <th>jquery</th>\n",
       "      <th>html</th>\n",
       "      <th>angular</th>\n",
       "      <th>todas_tags</th>\n",
       "    </tr>\n",
       "  </thead>\n",
       "  <tbody>\n",
       "    <tr>\n",
       "      <th>0</th>\n",
       "      <td>Possuo um projeto Node.js porém preciso criar ...</td>\n",
       "      <td>node.js</td>\n",
       "      <td>1</td>\n",
       "      <td>0</td>\n",
       "      <td>0</td>\n",
       "      <td>0</td>\n",
       "      <td>(1, 0, 0, 0)</td>\n",
       "    </tr>\n",
       "    <tr>\n",
       "      <th>1</th>\n",
       "      <td>Gostaria de fazer testes unitários no Node.js,...</td>\n",
       "      <td>node.js</td>\n",
       "      <td>1</td>\n",
       "      <td>0</td>\n",
       "      <td>0</td>\n",
       "      <td>0</td>\n",
       "      <td>(1, 0, 0, 0)</td>\n",
       "    </tr>\n",
       "    <tr>\n",
       "      <th>2</th>\n",
       "      <td>Como inverter a ordem com que o jQuery itera u...</td>\n",
       "      <td>jquery</td>\n",
       "      <td>0</td>\n",
       "      <td>1</td>\n",
       "      <td>0</td>\n",
       "      <td>0</td>\n",
       "      <td>(0, 1, 0, 0)</td>\n",
       "    </tr>\n",
       "    <tr>\n",
       "      <th>3</th>\n",
       "      <td>Eu tenho uma página onde pretendo utilizar um ...</td>\n",
       "      <td>html</td>\n",
       "      <td>0</td>\n",
       "      <td>0</td>\n",
       "      <td>1</td>\n",
       "      <td>0</td>\n",
       "      <td>(0, 0, 1, 0)</td>\n",
       "    </tr>\n",
       "    <tr>\n",
       "      <th>4</th>\n",
       "      <td>Como exibir os dados retornados do FireStore e...</td>\n",
       "      <td>html angular</td>\n",
       "      <td>0</td>\n",
       "      <td>0</td>\n",
       "      <td>1</td>\n",
       "      <td>1</td>\n",
       "      <td>(0, 0, 1, 1)</td>\n",
       "    </tr>\n",
       "  </tbody>\n",
       "</table>\n",
       "</div>"
      ],
      "text/plain": [
       "                                           Perguntas           Tags  node.js  \\\n",
       "0  Possuo um projeto Node.js porém preciso criar ...        node.js        1   \n",
       "1  Gostaria de fazer testes unitários no Node.js,...        node.js        1   \n",
       "2  Como inverter a ordem com que o jQuery itera u...         jquery        0   \n",
       "3  Eu tenho uma página onde pretendo utilizar um ...           html        0   \n",
       "4  Como exibir os dados retornados do FireStore e...  html angular         0   \n",
       "\n",
       "   jquery  html  angular    todas_tags  \n",
       "0       0     0        0  (1, 0, 0, 0)  \n",
       "1       0     0        0  (1, 0, 0, 0)  \n",
       "2       1     0        0  (0, 1, 0, 0)  \n",
       "3       0     1        0  (0, 0, 1, 0)  \n",
       "4       0     1        1  (0, 0, 1, 1)  "
      ]
     },
     "execution_count": 44,
     "metadata": {},
     "output_type": "execute_result"
    }
   ],
   "source": [
    "lista_zip_tags =list(zip(perguntas[lista_de_tags[0]],\n",
    "                    perguntas[lista_de_tags[1]],\n",
    "                    perguntas[lista_de_tags[2]],\n",
    "                    perguntas[lista_de_tags[3]]))\n",
    "\n",
    "perguntas['todas_tags'] = lista_zip_tags\n",
    "perguntas.head()"
   ]
  },
  {
   "cell_type": "code",
   "execution_count": 46,
   "metadata": {},
   "outputs": [],
   "source": [
    "from sklearn.model_selection import train_test_split \n",
    "\n",
    "# o segundo parametro vai ser uma coluna onde tem a resposta de todas os tipos, para que a amosta retirada possa ser semelhante ao todo\n",
    "\n",
    "perguntas_treino, perguntas_teste ,tags_treino ,tags_teste = train_test_split(\n",
    "    perguntas.Perguntas,\n",
    "    perguntas.todas_tags,\n",
    "    test_size = 0.2,\n",
    "    random_state = 123\n",
    ")\n"
   ]
  },
  {
   "cell_type": "code",
   "execution_count": 47,
   "metadata": {},
   "outputs": [
    {
     "data": {
      "text/plain": [
       "1577       array1 = [1,2,3];   array2 = [\"um\",\"dois\",\"...\n",
       "1927    Não sei se fui claro no título, mas quem é da ...\n",
       "3409    Alguém sabe me dizer qual a melhor forma de re...\n",
       "4606    Estou com problemas ao tentar validar campos d...\n",
       "5237    Preciso copiar um valor de dentro de um CODE  ...\n",
       "                              ...                        \n",
       "5218    Tenho um sisteminha, para mudar o layout da pá...\n",
       "4060    Como fazer alto scoll ao carregar a página?  E...\n",
       "1346    Explicação:  Tenho uma CODE  pai que contém du...\n",
       "3454    Estou querendo fazer um sistema onde eu iria t...\n",
       "3582    Galera eu to com um problemão, ja pesquisei ba...\n",
       "Name: Perguntas, Length: 4326, dtype: object"
      ]
     },
     "execution_count": 47,
     "metadata": {},
     "output_type": "execute_result"
    }
   ],
   "source": [
    "perguntas_treino"
   ]
  },
  {
   "cell_type": "code",
   "execution_count": 48,
   "metadata": {},
   "outputs": [],
   "source": [
    "# Fazemos a vetorização,nas perguntas por serem string, levando em consideração se as palavras utilizadas foram por exemplo\n",
    "# ótimo -> ter gostado do filme \n",
    "# péssimo -> não ter gostado do filme\n"
   ]
  },
  {
   "cell_type": "code",
   "execution_count": 53,
   "metadata": {},
   "outputs": [
    {
     "data": {
      "text/plain": [
       "TfidfVectorizer(max_df=0.85, max_features=5000)"
      ]
     },
     "execution_count": 53,
     "metadata": {},
     "output_type": "execute_result"
    }
   ],
   "source": [
    "from sklearn.feature_extraction.text import TfidfVectorizer\n",
    "\n",
    "vetorizar = TfidfVectorizer(max_features = 5000, max_df = 0.85)\n",
    "vetorizar"
   ]
  },
  {
   "cell_type": "code",
   "execution_count": 76,
   "metadata": {},
   "outputs": [
    {
     "name": "stdout",
     "output_type": "stream",
     "text": [
      "(4326, 5000)\n",
      "(1082, 5000)\n"
     ]
    }
   ],
   "source": [
    "vetorizar.fit(perguntas.Perguntas)\n",
    "perguntas_treino_tfidf = vetorizar.transform(perguntas_treino)\n",
    "perguntas_teste_tfidf = vetorizar.transform(perguntas_teste) \n",
    "\n",
    "print(perguntas_treino_tfidf.shape)\n",
    "print(perguntas_teste_tfidf.shape)"
   ]
  },
  {
   "cell_type": "code",
   "execution_count": 77,
   "metadata": {},
   "outputs": [
    {
     "data": {
      "text/plain": [
       "pandas.core.series.Series"
      ]
     },
     "execution_count": 77,
     "metadata": {},
     "output_type": "execute_result"
    }
   ],
   "source": [
    "type(tags_treino)"
   ]
  },
  {
   "cell_type": "code",
   "execution_count": 78,
   "metadata": {},
   "outputs": [
    {
     "name": "stdout",
     "output_type": "stream",
     "text": [
      "[[0 1 0 0]\n",
      " [0 1 0 0]\n",
      " [0 0 1 0]\n",
      " ...\n",
      " [0 1 1 0]\n",
      " [0 0 1 0]\n",
      " [0 1 1 0]]\n",
      "<class 'numpy.ndarray'>\n"
     ]
    }
   ],
   "source": [
    "import  numpy as np\n",
    "\n",
    "tags_treino_array = np.asarray(list(tags_treino))\n",
    "tags_teste_array = np.asarray(list(tags_teste))\n",
    "\n",
    "print(tags_treino_array)\n",
    "print(type(tags_treino_array)) "
   ]
  },
  {
   "cell_type": "code",
   "execution_count": 81,
   "metadata": {},
   "outputs": [
    {
     "name": "stdout",
     "output_type": "stream",
     "text": [
      "Resultado  41.68%\n"
     ]
    }
   ],
   "source": [
    "# apenas para ver o quão bom seria esse algoritmo\n",
    "\n",
    "from sklearn.multiclass import OneVsRestClassifier\n",
    "from sklearn.linear_model import LogisticRegression\n",
    "\n",
    "regressao_logistica = LogisticRegression(solver = 'lbfgs')\n",
    "classificador_onevsrest = OneVsRestClassifier(regressao_logistica)\n",
    "\n",
    "classificador_onevsrest.fit(perguntas_treino_tfidf, tags_treino_array)\n",
    "\n",
    "resultado_onevsrest = classificador_onevsrest.score(perguntas_test_tfidf, tags_teste_array)\n",
    "print('Resultado {0: .2f}%'. format(resultado_onevsrest*100))"
   ]
  },
  {
   "cell_type": "code",
   "execution_count": 83,
   "metadata": {},
   "outputs": [
    {
     "data": {
      "text/plain": [
       "array([(1, 0, 0, 0), (0, 1, 0, 0), (0, 0, 1, 0), (0, 0, 1, 1),\n",
       "       (0, 0, 0, 1), (0, 1, 1, 0), (1, 0, 0, 1), (0, 1, 1, 1),\n",
       "       (0, 1, 0, 1), (1, 0, 1, 0), (1, 1, 0, 0), (1, 0, 1, 1),\n",
       "       (1, 1, 1, 0)], dtype=object)"
      ]
     },
     "execution_count": 83,
     "metadata": {},
     "output_type": "execute_result"
    }
   ],
   "source": [
    "perguntas['todas_tags'].unique()"
   ]
  },
  {
   "cell_type": "code",
   "execution_count": 90,
   "metadata": {},
   "outputs": [
    {
     "data": {
      "text/plain": [
       "13"
      ]
     },
     "execution_count": 90,
     "metadata": {},
     "output_type": "execute_result"
    }
   ],
   "source": [
    "len(perguntas['todas_tags'].unique())"
   ]
  },
  {
   "cell_type": "code",
   "execution_count": 91,
   "metadata": {},
   "outputs": [],
   "source": [
    "# Quando menor o Hamming Loss melhor diferença entre a Acurácia que quanto maior melhor\n",
    "\n",
    "# Axurácia: \n",
    "    # Ela vê se acertou a linha toda, caso sim vai ser marcado um ponto\n",
    "    # Ex: no exemplo abaixo acertou somente a primeira linha sendo 1 de 3 -> 1/3\n",
    "# Hamming Loss:\n",
    "    # Ela olha de um por um para vê se acertou ou não  \n",
    "    # Ex: no exemplo a baixo ela errou apenas 3 de 12 -> 3/12     "
   ]
  },
  {
   "cell_type": "markdown",
   "metadata": {},
   "source": [
    "<img width='700px' src = 'Imagens/ExemploRealEPrevisto.png'>"
   ]
  },
  {
   "cell_type": "markdown",
   "metadata": {},
   "source": [
    "<img width='700px' src = 'Imagens/Resultados.png'>"
   ]
  },
  {
   "cell_type": "code",
   "execution_count": 94,
   "metadata": {},
   "outputs": [
    {
     "name": "stdout",
     "output_type": "stream",
     "text": [
      "Hamming Loss  0.19\n"
     ]
    }
   ],
   "source": [
    "from sklearn.metrics import hamming_loss\n",
    "\n",
    "previsao_onevsrest = classificador_onevsrest.predict(perguntas_test_tfidf)\n",
    "hamming_loss_onevsrest = hamming_loss(tags_teste_array, previsao_onevsrest)\n",
    "\n",
    "print('Hamming Loss {0: .2f}'. format(hamming_loss_onevsrest))\n",
    "# quanto menor melhor"
   ]
  },
  {
   "cell_type": "code",
   "execution_count": 95,
   "metadata": {},
   "outputs": [
    {
     "data": {
      "text/html": [
       "<div>\n",
       "<style scoped>\n",
       "    .dataframe tbody tr th:only-of-type {\n",
       "        vertical-align: middle;\n",
       "    }\n",
       "\n",
       "    .dataframe tbody tr th {\n",
       "        vertical-align: top;\n",
       "    }\n",
       "\n",
       "    .dataframe thead th {\n",
       "        text-align: right;\n",
       "    }\n",
       "</style>\n",
       "<table border=\"1\" class=\"dataframe\">\n",
       "  <thead>\n",
       "    <tr style=\"text-align: right;\">\n",
       "      <th></th>\n",
       "      <th>Perguntas</th>\n",
       "      <th>Tags</th>\n",
       "      <th>node.js</th>\n",
       "      <th>jquery</th>\n",
       "      <th>html</th>\n",
       "      <th>angular</th>\n",
       "      <th>todas_tags</th>\n",
       "    </tr>\n",
       "  </thead>\n",
       "  <tbody>\n",
       "    <tr>\n",
       "      <th>0</th>\n",
       "      <td>Possuo um projeto Node.js porém preciso criar ...</td>\n",
       "      <td>node.js</td>\n",
       "      <td>1</td>\n",
       "      <td>0</td>\n",
       "      <td>0</td>\n",
       "      <td>0</td>\n",
       "      <td>(1, 0, 0, 0)</td>\n",
       "    </tr>\n",
       "    <tr>\n",
       "      <th>1</th>\n",
       "      <td>Gostaria de fazer testes unitários no Node.js,...</td>\n",
       "      <td>node.js</td>\n",
       "      <td>1</td>\n",
       "      <td>0</td>\n",
       "      <td>0</td>\n",
       "      <td>0</td>\n",
       "      <td>(1, 0, 0, 0)</td>\n",
       "    </tr>\n",
       "    <tr>\n",
       "      <th>2</th>\n",
       "      <td>Como inverter a ordem com que o jQuery itera u...</td>\n",
       "      <td>jquery</td>\n",
       "      <td>0</td>\n",
       "      <td>1</td>\n",
       "      <td>0</td>\n",
       "      <td>0</td>\n",
       "      <td>(0, 1, 0, 0)</td>\n",
       "    </tr>\n",
       "    <tr>\n",
       "      <th>3</th>\n",
       "      <td>Eu tenho uma página onde pretendo utilizar um ...</td>\n",
       "      <td>html</td>\n",
       "      <td>0</td>\n",
       "      <td>0</td>\n",
       "      <td>1</td>\n",
       "      <td>0</td>\n",
       "      <td>(0, 0, 1, 0)</td>\n",
       "    </tr>\n",
       "    <tr>\n",
       "      <th>4</th>\n",
       "      <td>Como exibir os dados retornados do FireStore e...</td>\n",
       "      <td>html angular</td>\n",
       "      <td>0</td>\n",
       "      <td>0</td>\n",
       "      <td>1</td>\n",
       "      <td>1</td>\n",
       "      <td>(0, 0, 1, 1)</td>\n",
       "    </tr>\n",
       "    <tr>\n",
       "      <th>...</th>\n",
       "      <td>...</td>\n",
       "      <td>...</td>\n",
       "      <td>...</td>\n",
       "      <td>...</td>\n",
       "      <td>...</td>\n",
       "      <td>...</td>\n",
       "      <td>...</td>\n",
       "    </tr>\n",
       "    <tr>\n",
       "      <th>5403</th>\n",
       "      <td>Queria saber como pegar o total de cores de um...</td>\n",
       "      <td>jquery html</td>\n",
       "      <td>0</td>\n",
       "      <td>1</td>\n",
       "      <td>1</td>\n",
       "      <td>0</td>\n",
       "      <td>(0, 1, 1, 0)</td>\n",
       "    </tr>\n",
       "    <tr>\n",
       "      <th>5404</th>\n",
       "      <td>Boa noite, estou usando phonegap para fazer um...</td>\n",
       "      <td>html</td>\n",
       "      <td>0</td>\n",
       "      <td>0</td>\n",
       "      <td>1</td>\n",
       "      <td>0</td>\n",
       "      <td>(0, 0, 1, 0)</td>\n",
       "    </tr>\n",
       "    <tr>\n",
       "      <th>5405</th>\n",
       "      <td>Estou construindo um mini fórum, e nele, os us...</td>\n",
       "      <td>jquery html</td>\n",
       "      <td>0</td>\n",
       "      <td>1</td>\n",
       "      <td>1</td>\n",
       "      <td>0</td>\n",
       "      <td>(0, 1, 1, 0)</td>\n",
       "    </tr>\n",
       "    <tr>\n",
       "      <th>5406</th>\n",
       "      <td>Boa tarde,  Estou para desenvolver um site na ...</td>\n",
       "      <td>html</td>\n",
       "      <td>0</td>\n",
       "      <td>0</td>\n",
       "      <td>1</td>\n",
       "      <td>0</td>\n",
       "      <td>(0, 0, 1, 0)</td>\n",
       "    </tr>\n",
       "    <tr>\n",
       "      <th>5407</th>\n",
       "      <td>Estou fazendo um hotsite, ele é one page, e é ...</td>\n",
       "      <td>jquery html</td>\n",
       "      <td>0</td>\n",
       "      <td>1</td>\n",
       "      <td>1</td>\n",
       "      <td>0</td>\n",
       "      <td>(0, 1, 1, 0)</td>\n",
       "    </tr>\n",
       "  </tbody>\n",
       "</table>\n",
       "<p>5408 rows × 7 columns</p>\n",
       "</div>"
      ],
      "text/plain": [
       "                                              Perguntas           Tags  \\\n",
       "0     Possuo um projeto Node.js porém preciso criar ...        node.js   \n",
       "1     Gostaria de fazer testes unitários no Node.js,...        node.js   \n",
       "2     Como inverter a ordem com que o jQuery itera u...         jquery   \n",
       "3     Eu tenho uma página onde pretendo utilizar um ...           html   \n",
       "4     Como exibir os dados retornados do FireStore e...  html angular    \n",
       "...                                                 ...            ...   \n",
       "5403  Queria saber como pegar o total de cores de um...   jquery html    \n",
       "5404  Boa noite, estou usando phonegap para fazer um...          html    \n",
       "5405  Estou construindo um mini fórum, e nele, os us...    jquery html   \n",
       "5406  Boa tarde,  Estou para desenvolver um site na ...           html   \n",
       "5407  Estou fazendo um hotsite, ele é one page, e é ...    jquery html   \n",
       "\n",
       "      node.js  jquery  html  angular    todas_tags  \n",
       "0           1       0     0        0  (1, 0, 0, 0)  \n",
       "1           1       0     0        0  (1, 0, 0, 0)  \n",
       "2           0       1     0        0  (0, 1, 0, 0)  \n",
       "3           0       0     1        0  (0, 0, 1, 0)  \n",
       "4           0       0     1        1  (0, 0, 1, 1)  \n",
       "...       ...     ...   ...      ...           ...  \n",
       "5403        0       1     1        0  (0, 1, 1, 0)  \n",
       "5404        0       0     1        0  (0, 0, 1, 0)  \n",
       "5405        0       1     1        0  (0, 1, 1, 0)  \n",
       "5406        0       0     1        0  (0, 0, 1, 0)  \n",
       "5407        0       1     1        0  (0, 1, 1, 0)  \n",
       "\n",
       "[5408 rows x 7 columns]"
      ]
     },
     "execution_count": 95,
     "metadata": {},
     "output_type": "execute_result"
    }
   ],
   "source": [
    "perguntas"
   ]
  },
  {
   "cell_type": "code",
   "execution_count": 96,
   "metadata": {},
   "outputs": [
    {
     "data": {
      "text/html": [
       "<div>\n",
       "<style scoped>\n",
       "    .dataframe tbody tr th:only-of-type {\n",
       "        vertical-align: middle;\n",
       "    }\n",
       "\n",
       "    .dataframe tbody tr th {\n",
       "        vertical-align: top;\n",
       "    }\n",
       "\n",
       "    .dataframe thead th {\n",
       "        text-align: right;\n",
       "    }\n",
       "</style>\n",
       "<table border=\"1\" class=\"dataframe\">\n",
       "  <thead>\n",
       "    <tr style=\"text-align: right;\">\n",
       "      <th></th>\n",
       "      <th>node.js</th>\n",
       "      <th>jquery</th>\n",
       "      <th>html</th>\n",
       "      <th>angular</th>\n",
       "    </tr>\n",
       "  </thead>\n",
       "  <tbody>\n",
       "    <tr>\n",
       "      <th>node.js</th>\n",
       "      <td>1.000000</td>\n",
       "      <td>-0.321485</td>\n",
       "      <td>-0.273523</td>\n",
       "      <td>-0.101787</td>\n",
       "    </tr>\n",
       "    <tr>\n",
       "      <th>jquery</th>\n",
       "      <td>-0.321485</td>\n",
       "      <td>1.000000</td>\n",
       "      <td>-0.253977</td>\n",
       "      <td>-0.366269</td>\n",
       "    </tr>\n",
       "    <tr>\n",
       "      <th>html</th>\n",
       "      <td>-0.273523</td>\n",
       "      <td>-0.253977</td>\n",
       "      <td>1.000000</td>\n",
       "      <td>-0.286706</td>\n",
       "    </tr>\n",
       "    <tr>\n",
       "      <th>angular</th>\n",
       "      <td>-0.101787</td>\n",
       "      <td>-0.366269</td>\n",
       "      <td>-0.286706</td>\n",
       "      <td>1.000000</td>\n",
       "    </tr>\n",
       "  </tbody>\n",
       "</table>\n",
       "</div>"
      ],
      "text/plain": [
       "          node.js    jquery      html   angular\n",
       "node.js  1.000000 -0.321485 -0.273523 -0.101787\n",
       "jquery  -0.321485  1.000000 -0.253977 -0.366269\n",
       "html    -0.273523 -0.253977  1.000000 -0.286706\n",
       "angular -0.101787 -0.366269 -0.286706  1.000000"
      ]
     },
     "execution_count": 96,
     "metadata": {},
     "output_type": "execute_result"
    }
   ],
   "source": [
    "# correlação:\n",
    "    # 1-> é perfeito\n",
    "    # 0-> é ruim\n",
    "\n",
    "perguntas.corr()"
   ]
  },
  {
   "cell_type": "code",
   "execution_count": 99,
   "metadata": {},
   "outputs": [
    {
     "name": "stdout",
     "output_type": "stream",
     "text": [
      "Collecting scikit-multilearn\n",
      "  Downloading scikit_multilearn-0.2.0-py3-none-any.whl (89 kB)\n",
      "\u001b[K     |████████████████████████████████| 89 kB 1.3 MB/s eta 0:00:01\n",
      "\u001b[?25hInstalling collected packages: scikit-multilearn\n",
      "Successfully installed scikit-multilearn-0.2.0\n",
      "Note: you may need to restart the kernel to use updated packages.\n"
     ]
    }
   ],
   "source": [
    "pip install scikit-multilearn"
   ]
  },
  {
   "cell_type": "code",
   "execution_count": 101,
   "metadata": {},
   "outputs": [],
   "source": [
    "from skmultilearn.problem_transform import ClassifierChain"
   ]
  },
  {
   "cell_type": "code",
   "execution_count": 103,
   "metadata": {},
   "outputs": [
    {
     "name": "stdout",
     "output_type": "stream",
     "text": [
      "Resultado  49.82%\n",
      "Hamming Loss  0.21\n"
     ]
    }
   ],
   "source": [
    "# Essa maneira está fazendo com que a cada coluna que passa ele utilizar esse resultado, sendo em cadeia\n",
    "\n",
    "classificador_cadeia = ClassifierChain(regressao_logistica)\n",
    "classificador_cadeia.fit(perguntas_treino_tfidf, tags_treino_array)\n",
    "resultado_cadeia = classificador_cadeia.score(perguntas_test_tfidf, tags_teste_array)\n",
    "print('Resultado {0: .2f}%'. format(resultado_cadeia*100))\n",
    "\n",
    "previsao_cadeia = classificador_cadeia.predict(perguntas_test_tfidf)\n",
    "hamming_loss_cadeia = hamming_loss(tags_teste_array, previsao_cadeia)\n",
    "print('Hamming Loss {0: .2f}'. format(hamming_loss_cadeia))"
   ]
  },
  {
   "cell_type": "code",
   "execution_count": 104,
   "metadata": {},
   "outputs": [],
   "source": [
    "# A escolha do algoritmo seria de acordo com seu objetivo\n",
    "\n",
    "# Em relação ao algoritmo anterior, esse foi um pouco maior então seria um pouco pior\n",
    "# Em relação a curásia: ta acertando mais linhas inteiras e errando alguns pontuais em relação a binaria"
   ]
  },
  {
   "cell_type": "markdown",
   "metadata": {},
   "source": [
    "## Algoritmo adaptativos"
   ]
  },
  {
   "cell_type": "code",
   "execution_count": 111,
   "metadata": {},
   "outputs": [
    {
     "name": "stdout",
     "output_type": "stream",
     "text": [
      "Resultado  41.68%\n",
      "Hamming Loss  0.19\n"
     ]
    }
   ],
   "source": [
    "from skmultilearn.problem_transform import BinaryRelevance\n",
    "\n",
    "\n",
    "classificador_br = BinaryRelevance(regressao_logistica)\n",
    "classificador_br.fit(perguntas_treino_tfidf, tags_treino_array)\n",
    "resultado_br = classificador_br.score(perguntas_test_tfidf, tags_teste_array)\n",
    "print('Resultado {0: .2f}%'. format(resultado_br*100))\n",
    "\n",
    "previsao_br = classificador_br.predict(perguntas_test_tfidf)\n",
    "hamming_loss_br = hamming_loss(tags_teste_array, previsao_br)\n",
    "print('Hamming Loss {0: .2f}'. format(hamming_loss_br))"
   ]
  },
  {
   "cell_type": "code",
   "execution_count": 123,
   "metadata": {},
   "outputs": [
    {
     "name": "stderr",
     "output_type": "stream",
     "text": [
      "/opt/anaconda3/lib/python3.8/site-packages/sklearn/utils/validation.py:68: FutureWarning: Pass n_neighbors=10 as keyword args. From version 0.25 passing these as positional arguments will result in an error\n",
      "  warnings.warn(\"Pass {} as keyword args. From version 0.25 \"\n"
     ]
    },
    {
     "name": "stdout",
     "output_type": "stream",
     "text": [
      "Resultado  32.35%\n",
      "Hamming Loss  0.25\n"
     ]
    }
   ],
   "source": [
    "from skmultilearn.adapt import MLkNN\n",
    "\n",
    "classificador_mlknn = MLkNN()\n",
    "classificador_mlknn.fit(perguntas_treino_tfidf, tags_treino_array)\n",
    "resultado_mlknn = classificador_mlknn.score(perguntas_test_tfidf, tags_teste_array)\n",
    "print('Resultado {0: .2f}%'. format(resultado_mlknn*100))\n",
    "\n",
    "previsao_mlknn = classificador_mlknn.predict(perguntas_test_tfidf)\n",
    "hamming_loss_mlknn = hamming_loss(tags_teste_array, previsao_mlknn)\n",
    "print('Hamming Loss {0: .2f}'. format(hamming_loss_mlknn))"
   ]
  },
  {
   "cell_type": "code",
   "execution_count": 122,
   "metadata": {},
   "outputs": [
    {
     "name": "stdout",
     "output_type": "stream",
     "text": [
      "Hamming Loss cadeia  0.21\n",
      "Resultado cadeia  49.82%\n"
     ]
    }
   ],
   "source": [
    "print('Hamming Loss cadeia {0: .2f}'. format(hamming_loss_cadeia))\n",
    "print('Resultado cadeia {0: .2f}%'. format(resultado_cadeia*100))"
   ]
  },
  {
   "cell_type": "code",
   "execution_count": 124,
   "metadata": {},
   "outputs": [
    {
     "name": "stdout",
     "output_type": "stream",
     "text": [
      "Hamming Loss binaria  0.19\n",
      "Resultado banaria  41.68%\n"
     ]
    }
   ],
   "source": [
    "print('Hamming Loss binaria {0: .2f}'. format(hamming_loss_br))\n",
    "print('Resultado banaria {0: .2f}%'. format(resultado_br*100))"
   ]
  },
  {
   "cell_type": "code",
   "execution_count": 132,
   "metadata": {},
   "outputs": [
    {
     "data": {
      "text/html": [
       "<div>\n",
       "<style scoped>\n",
       "    .dataframe tbody tr th:only-of-type {\n",
       "        vertical-align: middle;\n",
       "    }\n",
       "\n",
       "    .dataframe tbody tr th {\n",
       "        vertical-align: top;\n",
       "    }\n",
       "\n",
       "    .dataframe thead th {\n",
       "        text-align: right;\n",
       "    }\n",
       "</style>\n",
       "<table border=\"1\" class=\"dataframe\">\n",
       "  <thead>\n",
       "    <tr style=\"text-align: right;\">\n",
       "      <th></th>\n",
       "      <th>perguntas</th>\n",
       "      <th>tags real</th>\n",
       "      <th>binaria</th>\n",
       "      <th>cadeia</th>\n",
       "      <th>mlknn</th>\n",
       "    </tr>\n",
       "  </thead>\n",
       "  <tbody>\n",
       "    <tr>\n",
       "      <th>0</th>\n",
       "      <td>estou com conflito entre o  CODE   e os  CODE ...</td>\n",
       "      <td>(0, 1, 0, 0)</td>\n",
       "      <td>[0, 1, 0, 0]</td>\n",
       "      <td>[0.0, 1.0, 0.0, 0.0]</td>\n",
       "      <td>[0, 0, 0, 0]</td>\n",
       "    </tr>\n",
       "    <tr>\n",
       "      <th>1</th>\n",
       "      <td>Estou fazendo um site que eu sou obrigado a us...</td>\n",
       "      <td>(0, 0, 1, 0)</td>\n",
       "      <td>[0, 0, 1, 0]</td>\n",
       "      <td>[0.0, 0.0, 1.0, 0.0]</td>\n",
       "      <td>[0, 1, 1, 0]</td>\n",
       "    </tr>\n",
       "    <tr>\n",
       "      <th>2</th>\n",
       "      <td>Recentemente fiz um refactor do meu código par...</td>\n",
       "      <td>(1, 0, 0, 0)</td>\n",
       "      <td>[1, 0, 0, 0]</td>\n",
       "      <td>[1.0, 0.0, 0.0, 0.0]</td>\n",
       "      <td>[1, 0, 0, 0]</td>\n",
       "    </tr>\n",
       "    <tr>\n",
       "      <th>3</th>\n",
       "      <td>Eu tenho esse código em CODE  que passo valore...</td>\n",
       "      <td>(0, 1, 1, 0)</td>\n",
       "      <td>[0, 1, 0, 0]</td>\n",
       "      <td>[0.0, 1.0, 0.0, 0.0]</td>\n",
       "      <td>[0, 0, 1, 0]</td>\n",
       "    </tr>\n",
       "    <tr>\n",
       "      <th>4</th>\n",
       "      <td>Olá, em minha função tem o evento CODE  que de...</td>\n",
       "      <td>(0, 1, 1, 0)</td>\n",
       "      <td>[0, 1, 0, 0]</td>\n",
       "      <td>[0.0, 1.0, 0.0, 0.0]</td>\n",
       "      <td>[0, 0, 1, 0]</td>\n",
       "    </tr>\n",
       "    <tr>\n",
       "      <th>...</th>\n",
       "      <td>...</td>\n",
       "      <td>...</td>\n",
       "      <td>...</td>\n",
       "      <td>...</td>\n",
       "      <td>...</td>\n",
       "    </tr>\n",
       "    <tr>\n",
       "      <th>1077</th>\n",
       "      <td>Estou a desenvolver um website em jQuery. E at...</td>\n",
       "      <td>(0, 1, 0, 0)</td>\n",
       "      <td>[0, 1, 1, 0]</td>\n",
       "      <td>[0.0, 1.0, 1.0, 0.0]</td>\n",
       "      <td>[0, 0, 1, 0]</td>\n",
       "    </tr>\n",
       "    <tr>\n",
       "      <th>1078</th>\n",
       "      <td>Estou usando este plugin - jquery autocomplete...</td>\n",
       "      <td>(0, 1, 0, 0)</td>\n",
       "      <td>[0, 1, 0, 0]</td>\n",
       "      <td>[0.0, 1.0, 0.0, 0.0]</td>\n",
       "      <td>[0, 1, 0, 0]</td>\n",
       "    </tr>\n",
       "    <tr>\n",
       "      <th>1079</th>\n",
       "      <td>Tenho o seguinte jQuery:  CODE   Nisto, quanti...</td>\n",
       "      <td>(0, 1, 0, 0)</td>\n",
       "      <td>[0, 1, 0, 0]</td>\n",
       "      <td>[0.0, 1.0, 0.0, 0.0]</td>\n",
       "      <td>[0, 1, 0, 0]</td>\n",
       "    </tr>\n",
       "    <tr>\n",
       "      <th>1080</th>\n",
       "      <td>Estou usando o SimpleModal Contact Form de Eri...</td>\n",
       "      <td>(0, 1, 0, 0)</td>\n",
       "      <td>[0, 1, 0, 0]</td>\n",
       "      <td>[0.0, 1.0, 0.0, 0.0]</td>\n",
       "      <td>[0, 1, 0, 0]</td>\n",
       "    </tr>\n",
       "    <tr>\n",
       "      <th>1081</th>\n",
       "      <td>Estou tento problemas com o webpack, gostaria ...</td>\n",
       "      <td>(0, 0, 0, 1)</td>\n",
       "      <td>[0, 0, 0, 0]</td>\n",
       "      <td>[0.0, 0.0, 1.0, 0.0]</td>\n",
       "      <td>[0, 0, 1, 0]</td>\n",
       "    </tr>\n",
       "  </tbody>\n",
       "</table>\n",
       "<p>1082 rows × 5 columns</p>\n",
       "</div>"
      ],
      "text/plain": [
       "                                              perguntas     tags real  \\\n",
       "0     estou com conflito entre o  CODE   e os  CODE ...  (0, 1, 0, 0)   \n",
       "1     Estou fazendo um site que eu sou obrigado a us...  (0, 0, 1, 0)   \n",
       "2     Recentemente fiz um refactor do meu código par...  (1, 0, 0, 0)   \n",
       "3     Eu tenho esse código em CODE  que passo valore...  (0, 1, 1, 0)   \n",
       "4     Olá, em minha função tem o evento CODE  que de...  (0, 1, 1, 0)   \n",
       "...                                                 ...           ...   \n",
       "1077  Estou a desenvolver um website em jQuery. E at...  (0, 1, 0, 0)   \n",
       "1078  Estou usando este plugin - jquery autocomplete...  (0, 1, 0, 0)   \n",
       "1079  Tenho o seguinte jQuery:  CODE   Nisto, quanti...  (0, 1, 0, 0)   \n",
       "1080  Estou usando o SimpleModal Contact Form de Eri...  (0, 1, 0, 0)   \n",
       "1081  Estou tento problemas com o webpack, gostaria ...  (0, 0, 0, 1)   \n",
       "\n",
       "           binaria                cadeia         mlknn  \n",
       "0     [0, 1, 0, 0]  [0.0, 1.0, 0.0, 0.0]  [0, 0, 0, 0]  \n",
       "1     [0, 0, 1, 0]  [0.0, 0.0, 1.0, 0.0]  [0, 1, 1, 0]  \n",
       "2     [1, 0, 0, 0]  [1.0, 0.0, 0.0, 0.0]  [1, 0, 0, 0]  \n",
       "3     [0, 1, 0, 0]  [0.0, 1.0, 0.0, 0.0]  [0, 0, 1, 0]  \n",
       "4     [0, 1, 0, 0]  [0.0, 1.0, 0.0, 0.0]  [0, 0, 1, 0]  \n",
       "...            ...                   ...           ...  \n",
       "1077  [0, 1, 1, 0]  [0.0, 1.0, 1.0, 0.0]  [0, 0, 1, 0]  \n",
       "1078  [0, 1, 0, 0]  [0.0, 1.0, 0.0, 0.0]  [0, 1, 0, 0]  \n",
       "1079  [0, 1, 0, 0]  [0.0, 1.0, 0.0, 0.0]  [0, 1, 0, 0]  \n",
       "1080  [0, 1, 0, 0]  [0.0, 1.0, 0.0, 0.0]  [0, 1, 0, 0]  \n",
       "1081  [0, 0, 0, 0]  [0.0, 0.0, 1.0, 0.0]  [0, 0, 1, 0]  \n",
       "\n",
       "[1082 rows x 5 columns]"
      ]
     },
     "execution_count": 132,
     "metadata": {},
     "output_type": "execute_result"
    }
   ],
   "source": [
    "resultados_classificacao = pd.DataFrame()\n",
    "resultados_classificacao['perguntas'] = perguntas_teste.values # values -> faz com que o indices fique inicie em 1\n",
    "resultados_classificacao['tags real'] = list(tags_teste) # o list -> faz com que ele bote em ordem\n",
    "resultados_classificacao['binaria'] = list(previsao_br.toarray())\n",
    "resultados_classificacao['cadeia'] = list(previsao_cadeia.toarray())\n",
    "resultados_classificacao['mlknn'] = list(previsao_mlknn.toarray())\n",
    "resultados_classificacao"
   ]
  },
  {
   "cell_type": "code",
   "execution_count": 133,
   "metadata": {},
   "outputs": [
    {
     "data": {
      "text/plain": [
       "perguntas    Estou fazendo um site que eu sou obrigado a us...\n",
       "tags real                                         (0, 0, 1, 0)\n",
       "binaria                                           [0, 0, 1, 0]\n",
       "cadeia                                    [0.0, 0.0, 1.0, 0.0]\n",
       "mlknn                                             [0, 1, 1, 0]\n",
       "Name: 1, dtype: object"
      ]
     },
     "execution_count": 133,
     "metadata": {},
     "output_type": "execute_result"
    }
   ],
   "source": [
    "resultados_classificacao.iloc[1]"
   ]
  },
  {
   "cell_type": "code",
   "execution_count": 134,
   "metadata": {},
   "outputs": [
    {
     "data": {
      "text/plain": [
       "'Estou fazendo um site que eu sou obrigado a usar HTML, CSS e JavaScript no máximo. Só que muitas coisas que eu preciso do PhP eu não posso usar. Sendo assim eu estive pesquisando por sinonimo de CODE  e encontrei o seguinte, que ajudou em partes:  CODE   Tá, mas qual é o problema? Ele cria uma barra de rolagem do lado. Eu sei como remover com CSS, mas o texto que foi inserido rola só dentro da área da CODE  e eu queria que fizesse como se o texto inserido fizesse parte da página, como funciona no CODE  do PhP. A questão é, como fazer a mecânica do JavaScript nesse caso ficar igual ao do PhP?  Print para exemplificar: https://imgur.com/a/V9AGLgB '"
      ]
     },
     "execution_count": 134,
     "metadata": {},
     "output_type": "execute_result"
    }
   ],
   "source": [
    "resultados_classificacao.perguntas[1]"
   ]
  },
  {
   "cell_type": "code",
   "execution_count": null,
   "metadata": {},
   "outputs": [],
   "source": []
  }
 ],
 "metadata": {
  "kernelspec": {
   "display_name": "Python 3",
   "language": "python",
   "name": "python3"
  },
  "language_info": {
   "codemirror_mode": {
    "name": "ipython",
    "version": 3
   },
   "file_extension": ".py",
   "mimetype": "text/x-python",
   "name": "python",
   "nbconvert_exporter": "python",
   "pygments_lexer": "ipython3",
   "version": "3.8.3"
  }
 },
 "nbformat": 4,
 "nbformat_minor": 4
}
